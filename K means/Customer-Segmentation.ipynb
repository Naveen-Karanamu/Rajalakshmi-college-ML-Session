{
 "cells": [
  {
   "cell_type": "markdown",
   "metadata": {},
   "source": [
    "# Customer Segmentation"
   ]
  },
  {
   "cell_type": "markdown",
   "metadata": {},
   "source": [
    "* Importing the Libraries"
   ]
  },
  {
   "cell_type": "code",
   "execution_count": 75,
   "metadata": {},
   "outputs": [],
   "source": [
    "import pandas as pd\n",
    "import numpy as np\n",
    "import re\n",
    "import seaborn as sns\n",
    "import matplotlib.pyplot as plt\n",
    "from sklearn.cluster import KMeans\n",
    "from sklearn.preprocessing import LabelEncoder\n",
    "from scipy.cluster.hierarchy import linkage, dendrogram"
   ]
  },
  {
   "cell_type": "markdown",
   "metadata": {},
   "source": [
    "* Importing the DataSet\n"
   ]
  },
  {
   "cell_type": "code",
   "execution_count": 37,
   "metadata": {},
   "outputs": [],
   "source": [
    "df=pd.read_csv('Mall_Customers.csv')"
   ]
  },
  {
   "cell_type": "markdown",
   "metadata": {},
   "source": [
    "* Data Analytics "
   ]
  },
  {
   "cell_type": "code",
   "execution_count": 38,
   "metadata": {},
   "outputs": [
    {
     "data": {
      "text/html": [
       "<div>\n",
       "<style scoped>\n",
       "    .dataframe tbody tr th:only-of-type {\n",
       "        vertical-align: middle;\n",
       "    }\n",
       "\n",
       "    .dataframe tbody tr th {\n",
       "        vertical-align: top;\n",
       "    }\n",
       "\n",
       "    .dataframe thead th {\n",
       "        text-align: right;\n",
       "    }\n",
       "</style>\n",
       "<table border=\"1\" class=\"dataframe\">\n",
       "  <thead>\n",
       "    <tr style=\"text-align: right;\">\n",
       "      <th></th>\n",
       "      <th>CustomerID</th>\n",
       "      <th>Genre</th>\n",
       "      <th>Age</th>\n",
       "      <th>Annual Income (k$)</th>\n",
       "      <th>Spending Score (1-100)</th>\n",
       "    </tr>\n",
       "  </thead>\n",
       "  <tbody>\n",
       "    <tr>\n",
       "      <th>0</th>\n",
       "      <td>1</td>\n",
       "      <td>Male</td>\n",
       "      <td>19</td>\n",
       "      <td>15</td>\n",
       "      <td>39</td>\n",
       "    </tr>\n",
       "    <tr>\n",
       "      <th>1</th>\n",
       "      <td>2</td>\n",
       "      <td>Male</td>\n",
       "      <td>21</td>\n",
       "      <td>15</td>\n",
       "      <td>81</td>\n",
       "    </tr>\n",
       "    <tr>\n",
       "      <th>2</th>\n",
       "      <td>3</td>\n",
       "      <td>Female</td>\n",
       "      <td>20</td>\n",
       "      <td>16</td>\n",
       "      <td>6</td>\n",
       "    </tr>\n",
       "    <tr>\n",
       "      <th>3</th>\n",
       "      <td>4</td>\n",
       "      <td>Female</td>\n",
       "      <td>23</td>\n",
       "      <td>16</td>\n",
       "      <td>77</td>\n",
       "    </tr>\n",
       "    <tr>\n",
       "      <th>4</th>\n",
       "      <td>5</td>\n",
       "      <td>Female</td>\n",
       "      <td>31</td>\n",
       "      <td>17</td>\n",
       "      <td>40</td>\n",
       "    </tr>\n",
       "  </tbody>\n",
       "</table>\n",
       "</div>"
      ],
      "text/plain": [
       "   CustomerID   Genre  Age  Annual Income (k$)  Spending Score (1-100)\n",
       "0           1    Male   19                  15                      39\n",
       "1           2    Male   21                  15                      81\n",
       "2           3  Female   20                  16                       6\n",
       "3           4  Female   23                  16                      77\n",
       "4           5  Female   31                  17                      40"
      ]
     },
     "execution_count": 38,
     "metadata": {},
     "output_type": "execute_result"
    }
   ],
   "source": [
    "df.head()"
   ]
  },
  {
   "cell_type": "code",
   "execution_count": 39,
   "metadata": {},
   "outputs": [
    {
     "data": {
      "text/html": [
       "<div>\n",
       "<style scoped>\n",
       "    .dataframe tbody tr th:only-of-type {\n",
       "        vertical-align: middle;\n",
       "    }\n",
       "\n",
       "    .dataframe tbody tr th {\n",
       "        vertical-align: top;\n",
       "    }\n",
       "\n",
       "    .dataframe thead th {\n",
       "        text-align: right;\n",
       "    }\n",
       "</style>\n",
       "<table border=\"1\" class=\"dataframe\">\n",
       "  <thead>\n",
       "    <tr style=\"text-align: right;\">\n",
       "      <th></th>\n",
       "      <th>CustomerID</th>\n",
       "      <th>Genre</th>\n",
       "      <th>Age</th>\n",
       "      <th>Annual Income (k$)</th>\n",
       "      <th>Spending Score (1-100)</th>\n",
       "    </tr>\n",
       "  </thead>\n",
       "  <tbody>\n",
       "    <tr>\n",
       "      <th>195</th>\n",
       "      <td>196</td>\n",
       "      <td>Female</td>\n",
       "      <td>35</td>\n",
       "      <td>120</td>\n",
       "      <td>79</td>\n",
       "    </tr>\n",
       "    <tr>\n",
       "      <th>196</th>\n",
       "      <td>197</td>\n",
       "      <td>Female</td>\n",
       "      <td>45</td>\n",
       "      <td>126</td>\n",
       "      <td>28</td>\n",
       "    </tr>\n",
       "    <tr>\n",
       "      <th>197</th>\n",
       "      <td>198</td>\n",
       "      <td>Male</td>\n",
       "      <td>32</td>\n",
       "      <td>126</td>\n",
       "      <td>74</td>\n",
       "    </tr>\n",
       "    <tr>\n",
       "      <th>198</th>\n",
       "      <td>199</td>\n",
       "      <td>Male</td>\n",
       "      <td>32</td>\n",
       "      <td>137</td>\n",
       "      <td>18</td>\n",
       "    </tr>\n",
       "    <tr>\n",
       "      <th>199</th>\n",
       "      <td>200</td>\n",
       "      <td>Male</td>\n",
       "      <td>30</td>\n",
       "      <td>137</td>\n",
       "      <td>83</td>\n",
       "    </tr>\n",
       "  </tbody>\n",
       "</table>\n",
       "</div>"
      ],
      "text/plain": [
       "     CustomerID   Genre  Age  Annual Income (k$)  Spending Score (1-100)\n",
       "195         196  Female   35                 120                      79\n",
       "196         197  Female   45                 126                      28\n",
       "197         198    Male   32                 126                      74\n",
       "198         199    Male   32                 137                      18\n",
       "199         200    Male   30                 137                      83"
      ]
     },
     "execution_count": 39,
     "metadata": {},
     "output_type": "execute_result"
    }
   ],
   "source": [
    "df.tail()"
   ]
  },
  {
   "cell_type": "markdown",
   "metadata": {},
   "source": [
    "* Shape of the Dataset"
   ]
  },
  {
   "cell_type": "code",
   "execution_count": 40,
   "metadata": {},
   "outputs": [
    {
     "data": {
      "text/plain": [
       "(200, 5)"
      ]
     },
     "execution_count": 40,
     "metadata": {},
     "output_type": "execute_result"
    }
   ],
   "source": [
    "df.shape"
   ]
  },
  {
   "cell_type": "markdown",
   "metadata": {},
   "source": [
    "* Getting Basic Information"
   ]
  },
  {
   "cell_type": "code",
   "execution_count": 41,
   "metadata": {},
   "outputs": [
    {
     "name": "stdout",
     "output_type": "stream",
     "text": [
      "<class 'pandas.core.frame.DataFrame'>\n",
      "RangeIndex: 200 entries, 0 to 199\n",
      "Data columns (total 5 columns):\n",
      " #   Column                  Non-Null Count  Dtype \n",
      "---  ------                  --------------  ----- \n",
      " 0   CustomerID              200 non-null    int64 \n",
      " 1   Genre                   200 non-null    object\n",
      " 2   Age                     200 non-null    int64 \n",
      " 3   Annual Income (k$)      200 non-null    int64 \n",
      " 4   Spending Score (1-100)  200 non-null    int64 \n",
      "dtypes: int64(4), object(1)\n",
      "memory usage: 7.9+ KB\n"
     ]
    }
   ],
   "source": [
    "df.info()"
   ]
  },
  {
   "cell_type": "markdown",
   "metadata": {},
   "source": [
    "No NaN values"
   ]
  },
  {
   "cell_type": "markdown",
   "metadata": {},
   "source": [
    "Gender col should be handled"
   ]
  },
  {
   "cell_type": "markdown",
   "metadata": {},
   "source": [
    "* Getting the Statistical data"
   ]
  },
  {
   "cell_type": "code",
   "execution_count": 42,
   "metadata": {},
   "outputs": [
    {
     "data": {
      "text/html": [
       "<div>\n",
       "<style scoped>\n",
       "    .dataframe tbody tr th:only-of-type {\n",
       "        vertical-align: middle;\n",
       "    }\n",
       "\n",
       "    .dataframe tbody tr th {\n",
       "        vertical-align: top;\n",
       "    }\n",
       "\n",
       "    .dataframe thead th {\n",
       "        text-align: right;\n",
       "    }\n",
       "</style>\n",
       "<table border=\"1\" class=\"dataframe\">\n",
       "  <thead>\n",
       "    <tr style=\"text-align: right;\">\n",
       "      <th></th>\n",
       "      <th>CustomerID</th>\n",
       "      <th>Age</th>\n",
       "      <th>Annual Income (k$)</th>\n",
       "      <th>Spending Score (1-100)</th>\n",
       "    </tr>\n",
       "  </thead>\n",
       "  <tbody>\n",
       "    <tr>\n",
       "      <th>count</th>\n",
       "      <td>200.000000</td>\n",
       "      <td>200.000000</td>\n",
       "      <td>200.000000</td>\n",
       "      <td>200.000000</td>\n",
       "    </tr>\n",
       "    <tr>\n",
       "      <th>mean</th>\n",
       "      <td>100.500000</td>\n",
       "      <td>38.850000</td>\n",
       "      <td>60.560000</td>\n",
       "      <td>50.200000</td>\n",
       "    </tr>\n",
       "    <tr>\n",
       "      <th>std</th>\n",
       "      <td>57.879185</td>\n",
       "      <td>13.969007</td>\n",
       "      <td>26.264721</td>\n",
       "      <td>25.823522</td>\n",
       "    </tr>\n",
       "    <tr>\n",
       "      <th>min</th>\n",
       "      <td>1.000000</td>\n",
       "      <td>18.000000</td>\n",
       "      <td>15.000000</td>\n",
       "      <td>1.000000</td>\n",
       "    </tr>\n",
       "    <tr>\n",
       "      <th>25%</th>\n",
       "      <td>50.750000</td>\n",
       "      <td>28.750000</td>\n",
       "      <td>41.500000</td>\n",
       "      <td>34.750000</td>\n",
       "    </tr>\n",
       "    <tr>\n",
       "      <th>50%</th>\n",
       "      <td>100.500000</td>\n",
       "      <td>36.000000</td>\n",
       "      <td>61.500000</td>\n",
       "      <td>50.000000</td>\n",
       "    </tr>\n",
       "    <tr>\n",
       "      <th>75%</th>\n",
       "      <td>150.250000</td>\n",
       "      <td>49.000000</td>\n",
       "      <td>78.000000</td>\n",
       "      <td>73.000000</td>\n",
       "    </tr>\n",
       "    <tr>\n",
       "      <th>max</th>\n",
       "      <td>200.000000</td>\n",
       "      <td>70.000000</td>\n",
       "      <td>137.000000</td>\n",
       "      <td>99.000000</td>\n",
       "    </tr>\n",
       "  </tbody>\n",
       "</table>\n",
       "</div>"
      ],
      "text/plain": [
       "       CustomerID         Age  Annual Income (k$)  Spending Score (1-100)\n",
       "count  200.000000  200.000000          200.000000              200.000000\n",
       "mean   100.500000   38.850000           60.560000               50.200000\n",
       "std     57.879185   13.969007           26.264721               25.823522\n",
       "min      1.000000   18.000000           15.000000                1.000000\n",
       "25%     50.750000   28.750000           41.500000               34.750000\n",
       "50%    100.500000   36.000000           61.500000               50.000000\n",
       "75%    150.250000   49.000000           78.000000               73.000000\n",
       "max    200.000000   70.000000          137.000000               99.000000"
      ]
     },
     "execution_count": 42,
     "metadata": {},
     "output_type": "execute_result"
    }
   ],
   "source": [
    "df.describe()"
   ]
  },
  {
   "cell_type": "markdown",
   "metadata": {},
   "source": [
    "# Data Visualization"
   ]
  },
  {
   "cell_type": "code",
   "execution_count": 43,
   "metadata": {},
   "outputs": [
    {
     "data": {
      "text/plain": [
       "<AxesSubplot:xlabel='Age', ylabel='count'>"
      ]
     },
     "execution_count": 43,
     "metadata": {},
     "output_type": "execute_result"
    },
    {
     "data": {
      "image/png": "[encoded data removed]",
      "text/plain": [
       "<Figure size 1440x1440 with 1 Axes>"
      ]
     },
     "metadata": {
      "needs_background": "light"
     },
     "output_type": "display_data"
    }
   ],
   "source": [
    "plt.figure(figsize=(20,20))\n",
    "sns.countplot(data=df,x='Age')"
   ]
  },
  {
   "cell_type": "markdown",
   "metadata": {},
   "source": [
    "The age group of 31 visits the mall mostly"
   ]
  },
  {
   "cell_type": "markdown",
   "metadata": {},
   "source": [
    "* Percentage of the male & Female's visit the mall"
   ]
  },
  {
   "cell_type": "code",
   "execution_count": 44,
   "metadata": {},
   "outputs": [],
   "source": [
    "male_per=(len(df[df.Genre=='Male'])/len(df.Genre))*100\n",
    "female_per=(len(df[df.Genre=='Female'])/len(df.Genre))*100"
   ]
  },
  {
   "cell_type": "code",
   "execution_count": 45,
   "metadata": {},
   "outputs": [
    {
     "data": {
      "text/plain": [
       "Text(0.5, 1.0, 'Male & Female Percentages')"
      ]
     },
     "execution_count": 45,
     "metadata": {},
     "output_type": "execute_result"
    },
    {
     "data": {
      "image/png": "[encoded data removed]",
      "text/plain": [
       "<Figure size 432x288 with 1 Axes>"
      ]
     },
     "metadata": {
      "needs_background": "light"
     },
     "output_type": "display_data"
    }
   ],
   "source": [
    "\n",
    "plt.bar('Males',male_per)\n",
    "plt.bar('Females' , female_per)\n",
    "plt.grid() \n",
    "plt.xlabel('Genders')\n",
    "plt.ylabel('Percentage ')\n",
    "plt.title('Male & Female Percentages')"
   ]
  },
  {
   "cell_type": "code",
   "execution_count": 46,
   "metadata": {},
   "outputs": [
    {
     "data": {
      "text/plain": [
       "<matplotlib.legend.Legend at 0x18f78423b80>"
      ]
     },
     "execution_count": 46,
     "metadata": {},
     "output_type": "execute_result"
    },
    {
     "data": {
      "image/png": "[encoded data removed]",
      "text/plain": [
       "<Figure size 432x288 with 1 Axes>"
      ]
     },
     "metadata": {},
     "output_type": "display_data"
    }
   ],
   "source": [
    "\n",
    "df.Genre.value_counts().plot(kind='pie',autopct=\"%0.2f %%\")\n",
    "plt.legend()"
   ]
  },
  {
   "cell_type": "markdown",
   "metadata": {},
   "source": [
    "No.of Females visit the mall mostly when compared to men"
   ]
  },
  {
   "cell_type": "markdown",
   "metadata": {},
   "source": [
    "* Plotting the distribution of the Income"
   ]
  },
  {
   "cell_type": "code",
   "execution_count": 47,
   "metadata": {},
   "outputs": [
    {
     "data": {
      "text/plain": [
       "Text(0.5, 1.0, 'Distribution of Annual Salaries')"
      ]
     },
     "execution_count": 47,
     "metadata": {},
     "output_type": "execute_result"
    },
    {
     "data": {
      "image/png": "[encoded data removed]",
      "text/plain": [
       "<Figure size 1440x1080 with 1 Axes>"
      ]
     },
     "metadata": {
      "needs_background": "light"
     },
     "output_type": "display_data"
    }
   ],
   "source": [
    "plt.figure(figsize=(20,15))\n",
    "sns.countplot(data=df,x=\"Annual Income (k$)\")\n",
    "plt.title(\"Distribution of Annual Salaries\")"
   ]
  },
  {
   "cell_type": "markdown",
   "metadata": {},
   "source": [
    "The customers whose Annual income is 54k & 78k visit the mall frequently"
   ]
  },
  {
   "cell_type": "markdown",
   "metadata": {},
   "source": [
    "* Annual Income distribution wrt to Male & Female"
   ]
  },
  {
   "cell_type": "code",
   "execution_count": 48,
   "metadata": {},
   "outputs": [
    {
     "data": {
      "image/png": "[encoded data removed]",
      "text/plain": [
       "<Figure size 432x288 with 1 Axes>"
      ]
     },
     "metadata": {
      "needs_background": "light"
     },
     "output_type": "display_data"
    }
   ],
   "source": [
    "sns.histplot(df,x='Annual Income (k$)',hue='Genre',multiple=\"stack\")\n",
    "plt.title('Annual Income WRT Genders')\n",
    "plt.grid()"
   ]
  },
  {
   "cell_type": "markdown",
   "metadata": {},
   "source": [
    "* Seaborn lmplot"
   ]
  },
  {
   "cell_type": "code",
   "execution_count": 49,
   "metadata": {},
   "outputs": [
    {
     "data": {
      "text/plain": [
       "Index(['CustomerID', 'Genre', 'Age', 'Annual Income (k$)',\n",
       "       'Spending Score (1-100)'],\n",
       "      dtype='object')"
      ]
     },
     "execution_count": 49,
     "metadata": {},
     "output_type": "execute_result"
    }
   ],
   "source": [
    "df.columns"
   ]
  },
  {
   "cell_type": "code",
   "execution_count": 50,
   "metadata": {},
   "outputs": [
    {
     "data": {
      "text/plain": [
       "<seaborn.axisgrid.FacetGrid at 0x18f78a86e00>"
      ]
     },
     "execution_count": 50,
     "metadata": {},
     "output_type": "execute_result"
    },
    {
     "data": {
      "image/png": "[encoded data removed]",
      "text/plain": [
       "<Figure size 432.125x360 with 1 Axes>"
      ]
     },
     "metadata": {
      "needs_background": "light"
     },
     "output_type": "display_data"
    }
   ],
   "source": [
    "sns.lmplot(data=df,x='Spending Score (1-100)',y='Age',hue='Genre')"
   ]
  },
  {
   "cell_type": "markdown",
   "metadata": {},
   "source": [
    "lmplot gives the best fit line for the scatter plot"
   ]
  },
  {
   "cell_type": "markdown",
   "metadata": {},
   "source": [
    "# ML"
   ]
  },
  {
   "cell_type": "code",
   "execution_count": 51,
   "metadata": {},
   "outputs": [
    {
     "data": {
      "text/html": [
       "<div>\n",
       "<style scoped>\n",
       "    .dataframe tbody tr th:only-of-type {\n",
       "        vertical-align: middle;\n",
       "    }\n",
       "\n",
       "    .dataframe tbody tr th {\n",
       "        vertical-align: top;\n",
       "    }\n",
       "\n",
       "    .dataframe thead th {\n",
       "        text-align: right;\n",
       "    }\n",
       "</style>\n",
       "<table border=\"1\" class=\"dataframe\">\n",
       "  <thead>\n",
       "    <tr style=\"text-align: right;\">\n",
       "      <th></th>\n",
       "      <th>CustomerID</th>\n",
       "      <th>Genre</th>\n",
       "      <th>Age</th>\n",
       "      <th>Annual Income (k$)</th>\n",
       "      <th>Spending Score (1-100)</th>\n",
       "    </tr>\n",
       "  </thead>\n",
       "  <tbody>\n",
       "    <tr>\n",
       "      <th>0</th>\n",
       "      <td>1</td>\n",
       "      <td>Male</td>\n",
       "      <td>19</td>\n",
       "      <td>15</td>\n",
       "      <td>39</td>\n",
       "    </tr>\n",
       "    <tr>\n",
       "      <th>1</th>\n",
       "      <td>2</td>\n",
       "      <td>Male</td>\n",
       "      <td>21</td>\n",
       "      <td>15</td>\n",
       "      <td>81</td>\n",
       "    </tr>\n",
       "    <tr>\n",
       "      <th>2</th>\n",
       "      <td>3</td>\n",
       "      <td>Female</td>\n",
       "      <td>20</td>\n",
       "      <td>16</td>\n",
       "      <td>6</td>\n",
       "    </tr>\n",
       "    <tr>\n",
       "      <th>3</th>\n",
       "      <td>4</td>\n",
       "      <td>Female</td>\n",
       "      <td>23</td>\n",
       "      <td>16</td>\n",
       "      <td>77</td>\n",
       "    </tr>\n",
       "    <tr>\n",
       "      <th>4</th>\n",
       "      <td>5</td>\n",
       "      <td>Female</td>\n",
       "      <td>31</td>\n",
       "      <td>17</td>\n",
       "      <td>40</td>\n",
       "    </tr>\n",
       "  </tbody>\n",
       "</table>\n",
       "</div>"
      ],
      "text/plain": [
       "   CustomerID   Genre  Age  Annual Income (k$)  Spending Score (1-100)\n",
       "0           1    Male   19                  15                      39\n",
       "1           2    Male   21                  15                      81\n",
       "2           3  Female   20                  16                       6\n",
       "3           4  Female   23                  16                      77\n",
       "4           5  Female   31                  17                      40"
      ]
     },
     "execution_count": 51,
     "metadata": {},
     "output_type": "execute_result"
    }
   ],
   "source": [
    "df.head()"
   ]
  },
  {
   "cell_type": "markdown",
   "metadata": {},
   "source": [
    "* Creating a new Df"
   ]
  },
  {
   "cell_type": "code",
   "execution_count": 52,
   "metadata": {},
   "outputs": [],
   "source": [
    "newdf=df.copy()"
   ]
  },
  {
   "cell_type": "markdown",
   "metadata": {},
   "source": [
    "* Lable Encoding"
   ]
  },
  {
   "cell_type": "code",
   "execution_count": 53,
   "metadata": {},
   "outputs": [],
   "source": [
    "le=LabelEncoder()"
   ]
  },
  {
   "cell_type": "code",
   "execution_count": 54,
   "metadata": {},
   "outputs": [],
   "source": [
    "newdf.Genre=le.fit_transform(newdf.Genre)"
   ]
  },
  {
   "cell_type": "code",
   "execution_count": 55,
   "metadata": {},
   "outputs": [
    {
     "data": {
      "text/html": [
       "<div>\n",
       "<style scoped>\n",
       "    .dataframe tbody tr th:only-of-type {\n",
       "        vertical-align: middle;\n",
       "    }\n",
       "\n",
       "    .dataframe tbody tr th {\n",
       "        vertical-align: top;\n",
       "    }\n",
       "\n",
       "    .dataframe thead th {\n",
       "        text-align: right;\n",
       "    }\n",
       "</style>\n",
       "<table border=\"1\" class=\"dataframe\">\n",
       "  <thead>\n",
       "    <tr style=\"text-align: right;\">\n",
       "      <th></th>\n",
       "      <th>CustomerID</th>\n",
       "      <th>Genre</th>\n",
       "      <th>Age</th>\n",
       "      <th>Annual Income (k$)</th>\n",
       "      <th>Spending Score (1-100)</th>\n",
       "    </tr>\n",
       "  </thead>\n",
       "  <tbody>\n",
       "    <tr>\n",
       "      <th>0</th>\n",
       "      <td>1</td>\n",
       "      <td>1</td>\n",
       "      <td>19</td>\n",
       "      <td>15</td>\n",
       "      <td>39</td>\n",
       "    </tr>\n",
       "    <tr>\n",
       "      <th>1</th>\n",
       "      <td>2</td>\n",
       "      <td>1</td>\n",
       "      <td>21</td>\n",
       "      <td>15</td>\n",
       "      <td>81</td>\n",
       "    </tr>\n",
       "    <tr>\n",
       "      <th>2</th>\n",
       "      <td>3</td>\n",
       "      <td>0</td>\n",
       "      <td>20</td>\n",
       "      <td>16</td>\n",
       "      <td>6</td>\n",
       "    </tr>\n",
       "    <tr>\n",
       "      <th>3</th>\n",
       "      <td>4</td>\n",
       "      <td>0</td>\n",
       "      <td>23</td>\n",
       "      <td>16</td>\n",
       "      <td>77</td>\n",
       "    </tr>\n",
       "    <tr>\n",
       "      <th>4</th>\n",
       "      <td>5</td>\n",
       "      <td>0</td>\n",
       "      <td>31</td>\n",
       "      <td>17</td>\n",
       "      <td>40</td>\n",
       "    </tr>\n",
       "  </tbody>\n",
       "</table>\n",
       "</div>"
      ],
      "text/plain": [
       "   CustomerID  Genre  Age  Annual Income (k$)  Spending Score (1-100)\n",
       "0           1      1   19                  15                      39\n",
       "1           2      1   21                  15                      81\n",
       "2           3      0   20                  16                       6\n",
       "3           4      0   23                  16                      77\n",
       "4           5      0   31                  17                      40"
      ]
     },
     "execution_count": 55,
     "metadata": {},
     "output_type": "execute_result"
    }
   ],
   "source": [
    "newdf.head()"
   ]
  },
  {
   "cell_type": "markdown",
   "metadata": {},
   "source": [
    "* Dropping the Customer id"
   ]
  },
  {
   "cell_type": "code",
   "execution_count": 56,
   "metadata": {},
   "outputs": [],
   "source": [
    "newdf.drop('CustomerID',axis=1,inplace=True)"
   ]
  },
  {
   "cell_type": "code",
   "execution_count": 57,
   "metadata": {},
   "outputs": [
    {
     "data": {
      "text/html": [
       "<div>\n",
       "<style scoped>\n",
       "    .dataframe tbody tr th:only-of-type {\n",
       "        vertical-align: middle;\n",
       "    }\n",
       "\n",
       "    .dataframe tbody tr th {\n",
       "        vertical-align: top;\n",
       "    }\n",
       "\n",
       "    .dataframe thead th {\n",
       "        text-align: right;\n",
       "    }\n",
       "</style>\n",
       "<table border=\"1\" class=\"dataframe\">\n",
       "  <thead>\n",
       "    <tr style=\"text-align: right;\">\n",
       "      <th></th>\n",
       "      <th>Genre</th>\n",
       "      <th>Age</th>\n",
       "      <th>Annual Income (k$)</th>\n",
       "      <th>Spending Score (1-100)</th>\n",
       "    </tr>\n",
       "  </thead>\n",
       "  <tbody>\n",
       "    <tr>\n",
       "      <th>0</th>\n",
       "      <td>1</td>\n",
       "      <td>19</td>\n",
       "      <td>15</td>\n",
       "      <td>39</td>\n",
       "    </tr>\n",
       "    <tr>\n",
       "      <th>1</th>\n",
       "      <td>1</td>\n",
       "      <td>21</td>\n",
       "      <td>15</td>\n",
       "      <td>81</td>\n",
       "    </tr>\n",
       "    <tr>\n",
       "      <th>2</th>\n",
       "      <td>0</td>\n",
       "      <td>20</td>\n",
       "      <td>16</td>\n",
       "      <td>6</td>\n",
       "    </tr>\n",
       "    <tr>\n",
       "      <th>3</th>\n",
       "      <td>0</td>\n",
       "      <td>23</td>\n",
       "      <td>16</td>\n",
       "      <td>77</td>\n",
       "    </tr>\n",
       "    <tr>\n",
       "      <th>4</th>\n",
       "      <td>0</td>\n",
       "      <td>31</td>\n",
       "      <td>17</td>\n",
       "      <td>40</td>\n",
       "    </tr>\n",
       "  </tbody>\n",
       "</table>\n",
       "</div>"
      ],
      "text/plain": [
       "   Genre  Age  Annual Income (k$)  Spending Score (1-100)\n",
       "0      1   19                  15                      39\n",
       "1      1   21                  15                      81\n",
       "2      0   20                  16                       6\n",
       "3      0   23                  16                      77\n",
       "4      0   31                  17                      40"
      ]
     },
     "execution_count": 57,
     "metadata": {},
     "output_type": "execute_result"
    }
   ],
   "source": [
    "newdf.head()"
   ]
  },
  {
   "cell_type": "markdown",
   "metadata": {},
   "source": [
    "* KMean Clustering"
   ]
  },
  {
   "cell_type": "markdown",
   "metadata": {},
   "source": [
    "* Hyperparameter Tuning"
   ]
  },
  {
   "cell_type": "code",
   "execution_count": 58,
   "metadata": {},
   "outputs": [],
   "source": [
    "ssd=[]\n",
    "for i in range (1,11):\n",
    "    kmodel=KMeans(n_clusters=i,n_init=15,max_iter=500)\n",
    "    kmodel.fit(newdf)\n",
    "    ssd.append(kmodel.inertia_)"
   ]
  },
  {
   "cell_type": "markdown",
   "metadata": {},
   "source": [
    "* Plotting the Cluster's & K's"
   ]
  },
  {
   "cell_type": "code",
   "execution_count": 60,
   "metadata": {},
   "outputs": [
    {
     "data": {
      "text/plain": [
       "Text(0.5, 1.0, 'Ellbow Plot')"
      ]
     },
     "execution_count": 60,
     "metadata": {},
     "output_type": "execute_result"
    },
    {
     "data": {
      "image/png": "[encoded data removed]",
      "text/plain": [
       "<Figure size 432x288 with 1 Axes>"
      ]
     },
     "metadata": {
      "needs_background": "light"
     },
     "output_type": "display_data"
    }
   ],
   "source": [
    "plt.plot(range(1,11),ssd,marker='o')\n",
    "plt.grid()\n",
    "plt.title(\"Ellbow Plot\")"
   ]
  },
  {
   "cell_type": "markdown",
   "metadata": {},
   "source": [
    "We can take the value of k=6, as the difference is very minimum"
   ]
  },
  {
   "cell_type": "markdown",
   "metadata": {},
   "source": [
    "We can make 6 categories of those customers"
   ]
  },
  {
   "cell_type": "markdown",
   "metadata": {},
   "source": [
    "* Model Selection"
   ]
  },
  {
   "cell_type": "code",
   "execution_count": 61,
   "metadata": {},
   "outputs": [],
   "source": [
    "kmodel=KMeans(n_clusters=6)\n"
   ]
  },
  {
   "cell_type": "markdown",
   "metadata": {},
   "source": [
    "* Fitting & Predicting the Model"
   ]
  },
  {
   "cell_type": "code",
   "execution_count": 64,
   "metadata": {},
   "outputs": [
    {
     "data": {
      "text/plain": [
       "array([1, 3, 1, 3, 1, 3, 1, 3, 1, 3, 1, 3, 1, 3, 1, 3, 1, 3, 1, 3, 1, 3,\n",
       "       1, 3, 1, 3, 1, 3, 1, 3, 1, 3, 1, 3, 1, 3, 1, 3, 1, 3, 5, 3, 1, 4,\n",
       "       1, 3, 5, 4, 4, 4, 5, 4, 4, 5, 5, 5, 5, 5, 4, 5, 5, 4, 5, 5, 5, 4,\n",
       "       5, 5, 4, 4, 5, 5, 5, 5, 5, 4, 5, 4, 4, 5, 5, 4, 5, 5, 4, 5, 5, 4,\n",
       "       4, 5, 5, 4, 5, 4, 4, 4, 5, 4, 5, 4, 4, 5, 5, 4, 5, 4, 5, 5, 5, 5,\n",
       "       5, 4, 4, 4, 4, 4, 5, 5, 5, 5, 4, 4, 4, 0, 4, 0, 2, 0, 2, 0, 2, 0,\n",
       "       4, 0, 2, 0, 2, 0, 2, 0, 2, 0, 4, 0, 2, 0, 2, 0, 2, 0, 2, 0, 2, 0,\n",
       "       2, 0, 2, 0, 2, 0, 2, 0, 2, 0, 2, 0, 2, 0, 2, 0, 2, 0, 2, 0, 2, 0,\n",
       "       2, 0, 2, 0, 2, 0, 2, 0, 2, 0, 2, 0, 2, 0, 2, 0, 2, 0, 2, 0, 2, 0,\n",
       "       2, 0])"
      ]
     },
     "execution_count": 64,
     "metadata": {},
     "output_type": "execute_result"
    }
   ],
   "source": [
    "kmodel.fit_predict(newdf)"
   ]
  },
  {
   "cell_type": "markdown",
   "metadata": {},
   "source": [
    "We can even use the fit, but the fit_predict is the combination of both, fitting & Predicting"
   ]
  },
  {
   "cell_type": "markdown",
   "metadata": {},
   "source": [
    "* Only Fitting"
   ]
  },
  {
   "cell_type": "code",
   "execution_count": 65,
   "metadata": {},
   "outputs": [
    {
     "data": {
      "text/html": [
       "<style>#sk-container-id-1 {color: black;background-color: white;}#sk-container-id-1 pre{padding: 0;}#sk-container-id-1 div.sk-toggleable {background-color: white;}#sk-container-id-1 label.sk-toggleable__label {cursor: pointer;display: block;width: 100%;margin-bottom: 0;padding: 0.3em;box-sizing: border-box;text-align: center;}#sk-container-id-1 label.sk-toggleable__label-arrow:before {content: \"▸\";float: left;margin-right: 0.25em;color: #696969;}#sk-container-id-1 label.sk-toggleable__label-arrow:hover:before {color: black;}#sk-container-id-1 div.sk-estimator:hover label.sk-toggleable__label-arrow:before {color: black;}#sk-container-id-1 div.sk-toggleable__content {max-height: 0;max-width: 0;overflow: hidden;text-align: left;background-color: #f0f8ff;}#sk-container-id-1 div.sk-toggleable__content pre {margin: 0.2em;color: black;border-radius: 0.25em;background-color: #f0f8ff;}#sk-container-id-1 input.sk-toggleable__control:checked~div.sk-toggleable__content {max-height: 200px;max-width: 100%;overflow: auto;}#sk-container-id-1 input.sk-toggleable__control:checked~label.sk-toggleable__label-arrow:before {content: \"▾\";}#sk-container-id-1 div.sk-estimator input.sk-toggleable__control:checked~label.sk-toggleable__label {background-color: #d4ebff;}#sk-container-id-1 div.sk-label input.sk-toggleable__control:checked~label.sk-toggleable__label {background-color: #d4ebff;}#sk-container-id-1 input.sk-hidden--visually {border: 0;clip: rect(1px 1px 1px 1px);clip: rect(1px, 1px, 1px, 1px);height: 1px;margin: -1px;overflow: hidden;padding: 0;position: absolute;width: 1px;}#sk-container-id-1 div.sk-estimator {font-family: monospace;background-color: #f0f8ff;border: 1px dotted black;border-radius: 0.25em;box-sizing: border-box;margin-bottom: 0.5em;}#sk-container-id-1 div.sk-estimator:hover {background-color: #d4ebff;}#sk-container-id-1 div.sk-parallel-item::after {content: \"\";width: 100%;border-bottom: 1px solid gray;flex-grow: 1;}#sk-container-id-1 div.sk-label:hover label.sk-toggleable__label {background-color: #d4ebff;}#sk-container-id-1 div.sk-serial::before {content: \"\";position: absolute;border-left: 1px solid gray;box-sizing: border-box;top: 0;bottom: 0;left: 50%;z-index: 0;}#sk-container-id-1 div.sk-serial {display: flex;flex-direction: column;align-items: center;background-color: white;padding-right: 0.2em;padding-left: 0.2em;position: relative;}#sk-container-id-1 div.sk-item {position: relative;z-index: 1;}#sk-container-id-1 div.sk-parallel {display: flex;align-items: stretch;justify-content: center;background-color: white;position: relative;}#sk-container-id-1 div.sk-item::before, #sk-container-id-1 div.sk-parallel-item::before {content: \"\";position: absolute;border-left: 1px solid gray;box-sizing: border-box;top: 0;bottom: 0;left: 50%;z-index: -1;}#sk-container-id-1 div.sk-parallel-item {display: flex;flex-direction: column;z-index: 1;position: relative;background-color: white;}#sk-container-id-1 div.sk-parallel-item:first-child::after {align-self: flex-end;width: 50%;}#sk-container-id-1 div.sk-parallel-item:last-child::after {align-self: flex-start;width: 50%;}#sk-container-id-1 div.sk-parallel-item:only-child::after {width: 0;}#sk-container-id-1 div.sk-dashed-wrapped {border: 1px dashed gray;margin: 0 0.4em 0.5em 0.4em;box-sizing: border-box;padding-bottom: 0.4em;background-color: white;}#sk-container-id-1 div.sk-label label {font-family: monospace;font-weight: bold;display: inline-block;line-height: 1.2em;}#sk-container-id-1 div.sk-label-container {text-align: center;}#sk-container-id-1 div.sk-container {/* jupyter's `normalize.less` sets `[hidden] { display: none; }` but bootstrap.min.css set `[hidden] { display: none !important; }` so we also need the `!important` here to be able to override the default hidden behavior on the sphinx rendered scikit-learn.org. See: https://github.com/scikit-learn/scikit-learn/issues/21755 */display: inline-block !important;position: relative;}#sk-container-id-1 div.sk-text-repr-fallback {display: none;}</style><div id=\"sk-container-id-1\" class=\"sk-top-container\"><div class=\"sk-text-repr-fallback\"><pre>KMeans(n_clusters=6)</pre><b>In a Jupyter environment, please rerun this cell to show the HTML representation or trust the notebook. <br />On GitHub, the HTML representation is unable to render, please try loading this page with nbviewer.org.</b></div><div class=\"sk-container\" hidden><div class=\"sk-item\"><div class=\"sk-estimator sk-toggleable\"><input class=\"sk-toggleable__control sk-hidden--visually\" id=\"sk-estimator-id-1\" type=\"checkbox\" checked><label for=\"sk-estimator-id-1\" class=\"sk-toggleable__label sk-toggleable__label-arrow\">KMeans</label><div class=\"sk-toggleable__content\"><pre>KMeans(n_clusters=6)</pre></div></div></div></div></div>"
      ],
      "text/plain": [
       "KMeans(n_clusters=6)"
      ]
     },
     "execution_count": 65,
     "metadata": {},
     "output_type": "execute_result"
    }
   ],
   "source": [
    "kmodel.fit(newdf)"
   ]
  },
  {
   "cell_type": "markdown",
   "metadata": {},
   "source": [
    "* Predicting the model"
   ]
  },
  {
   "cell_type": "code",
   "execution_count": 66,
   "metadata": {},
   "outputs": [],
   "source": [
    "pred=kmodel.predict(newdf)"
   ]
  },
  {
   "cell_type": "code",
   "execution_count": 67,
   "metadata": {},
   "outputs": [
    {
     "data": {
      "text/plain": [
       "array([0, 3, 0, 3, 0, 3, 0, 3, 0, 3, 0, 3, 0, 3, 0, 3, 0, 3, 0, 3, 0, 3,\n",
       "       0, 3, 0, 3, 0, 3, 0, 3, 0, 3, 0, 3, 0, 3, 0, 3, 0, 3, 2, 3, 0, 5,\n",
       "       0, 3, 2, 5, 5, 5, 2, 5, 5, 2, 2, 2, 2, 2, 5, 2, 2, 5, 2, 2, 2, 5,\n",
       "       2, 2, 5, 5, 2, 2, 2, 2, 2, 5, 2, 5, 5, 2, 2, 5, 2, 2, 5, 2, 2, 5,\n",
       "       5, 2, 2, 5, 2, 5, 5, 5, 2, 5, 2, 5, 5, 2, 2, 5, 2, 5, 2, 2, 2, 2,\n",
       "       2, 5, 5, 5, 5, 5, 2, 2, 2, 2, 5, 5, 5, 1, 5, 1, 4, 1, 4, 1, 4, 1,\n",
       "       5, 1, 4, 1, 4, 1, 4, 1, 4, 1, 5, 1, 4, 1, 4, 1, 4, 1, 4, 1, 4, 1,\n",
       "       4, 1, 4, 1, 4, 1, 4, 1, 4, 1, 4, 1, 4, 1, 4, 1, 4, 1, 4, 1, 4, 1,\n",
       "       4, 1, 4, 1, 4, 1, 4, 1, 4, 1, 4, 1, 4, 1, 4, 1, 4, 1, 4, 1, 4, 1,\n",
       "       4, 1])"
      ]
     },
     "execution_count": 67,
     "metadata": {},
     "output_type": "execute_result"
    }
   ],
   "source": [
    "pred"
   ]
  },
  {
   "cell_type": "markdown",
   "metadata": {},
   "source": [
    "The ranges will be from 0-5 as k=6"
   ]
  },
  {
   "cell_type": "markdown",
   "metadata": {},
   "source": [
    "\n",
    "* Cluster Centeroids\n"
   ]
  },
  {
   "cell_type": "code",
   "execution_count": 68,
   "metadata": {},
   "outputs": [
    {
     "data": {
      "text/plain": [
       "array([[ 0.40909091, 44.31818182, 25.77272727, 20.27272727],\n",
       "       [ 0.46153846, 32.69230769, 86.53846154, 82.12820513],\n",
       "       [ 0.43181818, 56.34090909, 53.70454545, 49.38636364],\n",
       "       [ 0.40909091, 25.27272727, 25.72727273, 79.36363636],\n",
       "       [ 0.57142857, 41.68571429, 88.22857143, 17.28571429],\n",
       "       [ 0.34210526, 27.        , 56.65789474, 49.13157895]])"
      ]
     },
     "execution_count": 68,
     "metadata": {},
     "output_type": "execute_result"
    }
   ],
   "source": [
    "kmodel.cluster_centers_"
   ]
  },
  {
   "cell_type": "code",
   "execution_count": 69,
   "metadata": {},
   "outputs": [
    {
     "data": {
      "text/plain": [
       "6"
      ]
     },
     "execution_count": 69,
     "metadata": {},
     "output_type": "execute_result"
    }
   ],
   "source": [
    "len(kmodel.cluster_centers_)"
   ]
  },
  {
   "cell_type": "markdown",
   "metadata": {},
   "source": [
    "* Adding the clusters to the newdf"
   ]
  },
  {
   "cell_type": "code",
   "execution_count": 73,
   "metadata": {},
   "outputs": [],
   "source": [
    "newdf['Cluster']=pred"
   ]
  },
  {
   "cell_type": "markdown",
   "metadata": {},
   "source": [
    "* Plotting the clusters"
   ]
  },
  {
   "cell_type": "code",
   "execution_count": 70,
   "metadata": {},
   "outputs": [
    {
     "data": {
      "text/plain": [
       "<matplotlib.collections.PathCollection at 0x18f78e00730>"
      ]
     },
     "execution_count": 70,
     "metadata": {},
     "output_type": "execute_result"
    },
    {
     "data": {
      "image/png": "[encoded data removed]",
      "text/plain": [
       "<Figure size 432x288 with 1 Axes>"
      ]
     },
     "metadata": {
      "needs_background": "light"
     },
     "output_type": "display_data"
    }
   ],
   "source": [
    "plt.scatter(kmodel.cluster_centers_[:,0],kmodel.cluster_centers_[:,1],c='black',s=200,alpha=0.5)"
   ]
  },
  {
   "cell_type": "code",
   "execution_count": 74,
   "metadata": {},
   "outputs": [
    {
     "data": {
      "text/plain": [
       "<matplotlib.collections.PathCollection at 0x18f01774100>"
      ]
     },
     "execution_count": 74,
     "metadata": {},
     "output_type": "execute_result"
    },
    {
     "data": {
      "image/png": "[encoded data removed]",
      "text/plain": [
       "<Figure size 432x288 with 1 Axes>"
      ]
     },
     "metadata": {
      "needs_background": "light"
     },
     "output_type": "display_data"
    }
   ],
   "source": [
    "plt.scatter(newdf['Spending Score (1-100)'],newdf['Cluster'],marker='o')"
   ]
  },
  {
   "cell_type": "code",
   "execution_count": 79,
   "metadata": {},
   "outputs": [
    {
     "data": {
      "text/plain": [
       "<AxesSubplot:xlabel='Annual Income (k$)', ylabel='Spending Score (1-100)'>"
      ]
     },
     "execution_count": 79,
     "metadata": {},
     "output_type": "execute_result"
    },
    {
     "data": {
      "image/png": "[encoded data removed]",
      "text/plain": [
       "<Figure size 432x288 with 1 Axes>"
      ]
     },
     "metadata": {
      "needs_background": "light"
     },
     "output_type": "display_data"
    }
   ],
   "source": [
    "color = np.array(['darkgray', 'lightsalmon', 'powderblue', 'red', 'yellow', 'black'])\n",
    "sns.scatterplot(x = newdf['Annual Income (k$)'],\n",
    "                y = newdf['Spending Score (1-100)'],\n",
    "                c=color[kmodel.labels_],\n",
    "                s=50)"
   ]
  },
  {
   "cell_type": "markdown",
   "metadata": {},
   "source": [
    "# Hierarchial KMeans"
   ]
  },
  {
   "cell_type": "code",
   "execution_count": 76,
   "metadata": {},
   "outputs": [],
   "source": [
    "var=linkage(newdf,method='ward')"
   ]
  },
  {
   "cell_type": "code",
   "execution_count": 78,
   "metadata": {},
   "outputs": [
    {
     "data": {
      "text/plain": [
       "{'icoord': [[15.0, 15.0, 25.0, 25.0],\n",
       "  [5.0, 5.0, 20.0, 20.0],\n",
       "  [45.0, 45.0, 55.0, 55.0],\n",
       "  [65.0, 65.0, 75.0, 75.0],\n",
       "  [50.0, 50.0, 70.0, 70.0],\n",
       "  [35.0, 35.0, 60.0, 60.0],\n",
       "  [105.0, 105.0, 115.0, 115.0],\n",
       "  [95.0, 95.0, 110.0, 110.0],\n",
       "  [85.0, 85.0, 102.5, 102.5],\n",
       "  [47.5, 47.5, 93.75, 93.75],\n",
       "  [145.0, 145.0, 155.0, 155.0],\n",
       "  [135.0, 135.0, 150.0, 150.0],\n",
       "  [125.0, 125.0, 142.5, 142.5],\n",
       "  [165.0, 165.0, 175.0, 175.0],\n",
       "  [185.0, 185.0, 195.0, 195.0],\n",
       "  [170.0, 170.0, 190.0, 190.0],\n",
       "  [133.75, 133.75, 180.0, 180.0],\n",
       "  [70.625, 70.625, 156.875, 156.875],\n",
       "  [12.5, 12.5, 113.75, 113.75],\n",
       "  [215.0, 215.0, 225.0, 225.0],\n",
       "  [205.0, 205.0, 220.0, 220.0],\n",
       "  [235.0, 235.0, 245.0, 245.0],\n",
       "  [265.0, 265.0, 275.0, 275.0],\n",
       "  [255.0, 255.0, 270.0, 270.0],\n",
       "  [240.0, 240.0, 262.5, 262.5],\n",
       "  [212.5, 212.5, 251.25, 251.25],\n",
       "  [295.0, 295.0, 305.0, 305.0],\n",
       "  [285.0, 285.0, 300.0, 300.0],\n",
       "  [335.0, 335.0, 345.0, 345.0],\n",
       "  [325.0, 325.0, 340.0, 340.0],\n",
       "  [315.0, 315.0, 332.5, 332.5],\n",
       "  [355.0, 355.0, 365.0, 365.0],\n",
       "  [385.0, 385.0, 395.0, 395.0],\n",
       "  [375.0, 375.0, 390.0, 390.0],\n",
       "  [360.0, 360.0, 382.5, 382.5],\n",
       "  [323.75, 323.75, 371.25, 371.25],\n",
       "  [292.5, 292.5, 347.5, 347.5],\n",
       "  [231.875, 231.875, 320.0, 320.0],\n",
       "  [415.0, 415.0, 425.0, 425.0],\n",
       "  [405.0, 405.0, 420.0, 420.0],\n",
       "  [435.0, 435.0, 445.0, 445.0],\n",
       "  [485.0, 485.0, 495.0, 495.0],\n",
       "  [475.0, 475.0, 490.0, 490.0],\n",
       "  [465.0, 465.0, 482.5, 482.5],\n",
       "  [455.0, 455.0, 473.75, 473.75],\n",
       "  [440.0, 440.0, 464.375, 464.375],\n",
       "  [412.5, 412.5, 452.1875, 452.1875],\n",
       "  [525.0, 525.0, 535.0, 535.0],\n",
       "  [515.0, 515.0, 530.0, 530.0],\n",
       "  [505.0, 505.0, 522.5, 522.5],\n",
       "  [545.0, 545.0, 555.0, 555.0],\n",
       "  [565.0, 565.0, 575.0, 575.0],\n",
       "  [550.0, 550.0, 570.0, 570.0],\n",
       "  [585.0, 585.0, 595.0, 595.0],\n",
       "  [560.0, 560.0, 590.0, 590.0],\n",
       "  [513.75, 513.75, 575.0, 575.0],\n",
       "  [432.34375, 432.34375, 544.375, 544.375],\n",
       "  [605.0, 605.0, 615.0, 615.0],\n",
       "  [625.0, 625.0, 635.0, 635.0],\n",
       "  [610.0, 610.0, 630.0, 630.0],\n",
       "  [655.0, 655.0, 665.0, 665.0],\n",
       "  [645.0, 645.0, 660.0, 660.0],\n",
       "  [620.0, 620.0, 652.5, 652.5],\n",
       "  [675.0, 675.0, 685.0, 685.0],\n",
       "  [715.0, 715.0, 725.0, 725.0],\n",
       "  [705.0, 705.0, 720.0, 720.0],\n",
       "  [735.0, 735.0, 745.0, 745.0],\n",
       "  [712.5, 712.5, 740.0, 740.0],\n",
       "  [695.0, 695.0, 726.25, 726.25],\n",
       "  [680.0, 680.0, 710.625, 710.625],\n",
       "  [765.0, 765.0, 775.0, 775.0],\n",
       "  [755.0, 755.0, 770.0, 770.0],\n",
       "  [785.0, 785.0, 795.0, 795.0],\n",
       "  [762.5, 762.5, 790.0, 790.0],\n",
       "  [805.0, 805.0, 815.0, 815.0],\n",
       "  [835.0, 835.0, 845.0, 845.0],\n",
       "  [825.0, 825.0, 840.0, 840.0],\n",
       "  [810.0, 810.0, 832.5, 832.5],\n",
       "  [855.0, 855.0, 865.0, 865.0],\n",
       "  [885.0, 885.0, 895.0, 895.0],\n",
       "  [875.0, 875.0, 890.0, 890.0],\n",
       "  [860.0, 860.0, 882.5, 882.5],\n",
       "  [821.25, 821.25, 871.25, 871.25],\n",
       "  [776.25, 776.25, 846.25, 846.25],\n",
       "  [695.3125, 695.3125, 811.25, 811.25],\n",
       "  [636.25, 636.25, 753.28125, 753.28125],\n",
       "  [488.359375, 488.359375, 694.765625, 694.765625],\n",
       "  [915.0, 915.0, 925.0, 925.0],\n",
       "  [905.0, 905.0, 920.0, 920.0],\n",
       "  [945.0, 945.0, 955.0, 955.0],\n",
       "  [935.0, 935.0, 950.0, 950.0],\n",
       "  [912.5, 912.5, 942.5, 942.5],\n",
       "  [985.0, 985.0, 995.0, 995.0],\n",
       "  [975.0, 975.0, 990.0, 990.0],\n",
       "  [965.0, 965.0, 982.5, 982.5],\n",
       "  [927.5, 927.5, 973.75, 973.75],\n",
       "  [1025.0, 1025.0, 1035.0, 1035.0],\n",
       "  [1015.0, 1015.0, 1030.0, 1030.0],\n",
       "  [1005.0, 1005.0, 1022.5, 1022.5],\n",
       "  [1055.0, 1055.0, 1065.0, 1065.0],\n",
       "  [1045.0, 1045.0, 1060.0, 1060.0],\n",
       "  [1013.75, 1013.75, 1052.5, 1052.5],\n",
       "  [1085.0, 1085.0, 1095.0, 1095.0],\n",
       "  [1075.0, 1075.0, 1090.0, 1090.0],\n",
       "  [1135.0, 1135.0, 1145.0, 1145.0],\n",
       "  [1125.0, 1125.0, 1140.0, 1140.0],\n",
       "  [1115.0, 1115.0, 1132.5, 1132.5],\n",
       "  [1105.0, 1105.0, 1123.75, 1123.75],\n",
       "  [1082.5, 1082.5, 1114.375, 1114.375],\n",
       "  [1165.0, 1165.0, 1175.0, 1175.0],\n",
       "  [1155.0, 1155.0, 1170.0, 1170.0],\n",
       "  [1185.0, 1185.0, 1195.0, 1195.0],\n",
       "  [1205.0, 1205.0, 1215.0, 1215.0],\n",
       "  [1190.0, 1190.0, 1210.0, 1210.0],\n",
       "  [1225.0, 1225.0, 1235.0, 1235.0],\n",
       "  [1245.0, 1245.0, 1255.0, 1255.0],\n",
       "  [1230.0, 1230.0, 1250.0, 1250.0],\n",
       "  [1200.0, 1200.0, 1240.0, 1240.0],\n",
       "  [1162.5, 1162.5, 1220.0, 1220.0],\n",
       "  [1098.4375, 1098.4375, 1191.25, 1191.25],\n",
       "  [1033.125, 1033.125, 1144.84375, 1144.84375],\n",
       "  [950.625, 950.625, 1088.984375, 1088.984375],\n",
       "  [591.5625, 591.5625, 1019.8046875, 1019.8046875],\n",
       "  [275.9375, 275.9375, 805.68359375, 805.68359375],\n",
       "  [63.125, 63.125, 540.810546875, 540.810546875],\n",
       "  [1275.0, 1275.0, 1285.0, 1285.0],\n",
       "  [1265.0, 1265.0, 1280.0, 1280.0],\n",
       "  [1295.0, 1295.0, 1305.0, 1305.0],\n",
       "  [1315.0, 1315.0, 1325.0, 1325.0],\n",
       "  [1355.0, 1355.0, 1365.0, 1365.0],\n",
       "  [1345.0, 1345.0, 1360.0, 1360.0],\n",
       "  [1335.0, 1335.0, 1352.5, 1352.5],\n",
       "  [1320.0, 1320.0, 1343.75, 1343.75],\n",
       "  [1300.0, 1300.0, 1331.875, 1331.875],\n",
       "  [1375.0, 1375.0, 1385.0, 1385.0],\n",
       "  [1395.0, 1395.0, 1405.0, 1405.0],\n",
       "  [1380.0, 1380.0, 1400.0, 1400.0],\n",
       "  [1315.9375, 1315.9375, 1390.0, 1390.0],\n",
       "  [1415.0, 1415.0, 1425.0, 1425.0],\n",
       "  [1445.0, 1445.0, 1455.0, 1455.0],\n",
       "  [1435.0, 1435.0, 1450.0, 1450.0],\n",
       "  [1420.0, 1420.0, 1442.5, 1442.5],\n",
       "  [1352.96875, 1352.96875, 1431.25, 1431.25],\n",
       "  [1475.0, 1475.0, 1485.0, 1485.0],\n",
       "  [1465.0, 1465.0, 1480.0, 1480.0],\n",
       "  [1495.0, 1495.0, 1505.0, 1505.0],\n",
       "  [1515.0, 1515.0, 1525.0, 1525.0],\n",
       "  [1545.0, 1545.0, 1555.0, 1555.0],\n",
       "  [1535.0, 1535.0, 1550.0, 1550.0],\n",
       "  [1520.0, 1520.0, 1542.5, 1542.5],\n",
       "  [1500.0, 1500.0, 1531.25, 1531.25],\n",
       "  [1472.5, 1472.5, 1515.625, 1515.625],\n",
       "  [1565.0, 1565.0, 1575.0, 1575.0],\n",
       "  [1585.0, 1585.0, 1595.0, 1595.0],\n",
       "  [1570.0, 1570.0, 1590.0, 1590.0],\n",
       "  [1635.0, 1635.0, 1645.0, 1645.0],\n",
       "  [1625.0, 1625.0, 1640.0, 1640.0],\n",
       "  [1615.0, 1615.0, 1632.5, 1632.5],\n",
       "  [1605.0, 1605.0, 1623.75, 1623.75],\n",
       "  [1580.0, 1580.0, 1614.375, 1614.375],\n",
       "  [1494.0625, 1494.0625, 1597.1875, 1597.1875],\n",
       "  [1392.109375, 1392.109375, 1545.625, 1545.625],\n",
       "  [1272.5, 1272.5, 1468.8671875, 1468.8671875],\n",
       "  [1665.0, 1665.0, 1675.0, 1675.0],\n",
       "  [1655.0, 1655.0, 1670.0, 1670.0],\n",
       "  [1685.0, 1685.0, 1695.0, 1695.0],\n",
       "  [1735.0, 1735.0, 1745.0, 1745.0],\n",
       "  [1725.0, 1725.0, 1740.0, 1740.0],\n",
       "  [1715.0, 1715.0, 1732.5, 1732.5],\n",
       "  [1705.0, 1705.0, 1723.75, 1723.75],\n",
       "  [1690.0, 1690.0, 1714.375, 1714.375],\n",
       "  [1662.5, 1662.5, 1702.1875, 1702.1875],\n",
       "  [1755.0, 1755.0, 1765.0, 1765.0],\n",
       "  [1795.0, 1795.0, 1805.0, 1805.0],\n",
       "  [1785.0, 1785.0, 1800.0, 1800.0],\n",
       "  [1775.0, 1775.0, 1792.5, 1792.5],\n",
       "  [1760.0, 1760.0, 1783.75, 1783.75],\n",
       "  [1815.0, 1815.0, 1825.0, 1825.0],\n",
       "  [1835.0, 1835.0, 1845.0, 1845.0],\n",
       "  [1820.0, 1820.0, 1840.0, 1840.0],\n",
       "  [1855.0, 1855.0, 1865.0, 1865.0],\n",
       "  [1885.0, 1885.0, 1895.0, 1895.0],\n",
       "  [1875.0, 1875.0, 1890.0, 1890.0],\n",
       "  [1860.0, 1860.0, 1882.5, 1882.5],\n",
       "  [1915.0, 1915.0, 1925.0, 1925.0],\n",
       "  [1905.0, 1905.0, 1920.0, 1920.0],\n",
       "  [1935.0, 1935.0, 1945.0, 1945.0],\n",
       "  [1955.0, 1955.0, 1965.0, 1965.0],\n",
       "  [1985.0, 1985.0, 1995.0, 1995.0],\n",
       "  [1975.0, 1975.0, 1990.0, 1990.0],\n",
       "  [1960.0, 1960.0, 1982.5, 1982.5],\n",
       "  [1940.0, 1940.0, 1971.25, 1971.25],\n",
       "  [1912.5, 1912.5, 1955.625, 1955.625],\n",
       "  [1871.25, 1871.25, 1934.0625, 1934.0625],\n",
       "  [1830.0, 1830.0, 1902.65625, 1902.65625],\n",
       "  [1771.875, 1771.875, 1866.328125, 1866.328125],\n",
       "  [1682.34375, 1682.34375, 1819.1015625, 1819.1015625],\n",
       "  [1370.68359375, 1370.68359375, 1750.72265625, 1750.72265625],\n",
       "  [301.9677734375, 301.9677734375, 1560.703125, 1560.703125]],\n",
       " 'dcoord': [[0.0, 4.123105625617661, 4.123105625617661, 0.0],\n",
       "  [0.0, 15.198684153570664, 15.198684153570664, 4.123105625617661],\n",
       "  [0.0, 1.7320508075688772, 1.7320508075688772, 0.0],\n",
       "  [0.0, 3.0, 3.0, 0.0],\n",
       "  [1.7320508075688772, 5.477225575051661, 5.477225575051661, 3.0],\n",
       "  [0.0, 6.723094525588644, 6.723094525588644, 5.477225575051661],\n",
       "  [0.0, 6.082762530298219, 6.082762530298219, 0.0],\n",
       "  [0.0, 6.952217871538069, 6.952217871538069, 6.082762530298219],\n",
       "  [0.0, 13.552367566837413, 13.552367566837413, 6.952217871538069],\n",
       "  [6.723094525588644,\n",
       "   19.726462767899708,\n",
       "   19.726462767899708,\n",
       "   13.552367566837413],\n",
       "  [0.0, 7.280109889280518, 7.280109889280518, 0.0],\n",
       "  [0.0, 8.18535277187245, 8.18535277187245, 7.280109889280518],\n",
       "  [0.0, 12.16552506059644, 12.16552506059644, 8.18535277187245],\n",
       "  [0.0, 7.810249675906654, 7.810249675906654, 0.0],\n",
       "  [0.0, 7.937253933193772, 7.937253933193772, 0.0],\n",
       "  [7.810249675906654, 16.15549442140351, 16.15549442140351, 7.937253933193772],\n",
       "  [12.16552506059644,\n",
       "   25.739075352467495,\n",
       "   25.739075352467495,\n",
       "   16.15549442140351],\n",
       "  [19.726462767899708,\n",
       "   43.262423127952054,\n",
       "   43.262423127952054,\n",
       "   25.739075352467495],\n",
       "  [15.198684153570664,\n",
       "   47.414443071333295,\n",
       "   47.414443071333295,\n",
       "   43.262423127952054],\n",
       "  [0.0, 9.16515138991168, 9.16515138991168, 0.0],\n",
       "  [0.0, 13.416407864998737, 13.416407864998737, 9.16515138991168],\n",
       "  [0.0, 7.615773105863909, 7.615773105863909, 0.0],\n",
       "  [0.0, 7.0710678118654755, 7.0710678118654755, 0.0],\n",
       "  [0.0, 13.73559851869101, 13.73559851869101, 7.0710678118654755],\n",
       "  [7.615773105863909,\n",
       "   15.853495934125489,\n",
       "   15.853495934125489,\n",
       "   13.73559851869101],\n",
       "  [13.416407864998737,\n",
       "   29.244657631779518,\n",
       "   29.244657631779518,\n",
       "   15.853495934125489],\n",
       "  [0.0, 7.615773105863909, 7.615773105863909, 0.0],\n",
       "  [0.0, 19.235384061671347, 19.235384061671347, 7.615773105863909],\n",
       "  [0.0, 3.1622776601683795, 3.1622776601683795, 0.0],\n",
       "  [0.0, 9.763879010584539, 9.763879010584539, 3.1622776601683795],\n",
       "  [0.0, 19.485036994233976, 19.485036994233976, 9.763879010584539],\n",
       "  [0.0, 11.224972160321824, 11.224972160321824, 0.0],\n",
       "  [0.0, 5.196152422706632, 5.196152422706632, 0.0],\n",
       "  [0.0, 13.051181300301263, 13.051181300301263, 5.196152422706632],\n",
       "  [11.224972160321824,\n",
       "   22.268063828421784,\n",
       "   22.268063828421784,\n",
       "   13.051181300301263],\n",
       "  [19.485036994233976,\n",
       "   41.849200178205976,\n",
       "   41.849200178205976,\n",
       "   22.268063828421784],\n",
       "  [19.235384061671347,\n",
       "   53.49870195725417,\n",
       "   53.49870195725417,\n",
       "   41.849200178205976],\n",
       "  [29.244657631779518, 82.8117342731894, 82.8117342731894, 53.49870195725417],\n",
       "  [0.0, 3.0, 3.0, 0.0],\n",
       "  [0.0, 4.203173404306163, 4.203173404306163, 3.0],\n",
       "  [0.0, 5.916079783099616, 5.916079783099616, 0.0],\n",
       "  [0.0, 2.449489742783178, 2.449489742783178, 0.0],\n",
       "  [0.0, 2.9439202887759492, 2.9439202887759492, 2.449489742783178],\n",
       "  [0.0, 4.7784237289438165, 4.7784237289438165, 2.9439202887759492],\n",
       "  [0.0, 7.162401831787994, 7.162401831787994, 4.7784237289438165],\n",
       "  [5.916079783099616,\n",
       "   11.144505372604023,\n",
       "   11.144505372604023,\n",
       "   7.162401831787994],\n",
       "  [4.203173404306163,\n",
       "   16.447897535348805,\n",
       "   16.447897535348805,\n",
       "   11.144505372604023],\n",
       "  [0.0, 3.0, 3.0, 0.0],\n",
       "  [0.0, 5.322906474223771, 5.322906474223771, 3.0],\n",
       "  [0.0, 11.711817393840576, 11.711817393840576, 5.322906474223771],\n",
       "  [0.0, 7.0, 7.0, 0.0],\n",
       "  [0.0, 7.280109889280518, 7.280109889280518, 0.0],\n",
       "  [7.0, 9.38083151964686, 9.38083151964686, 7.280109889280518],\n",
       "  [0.0, 12.68857754044952, 12.68857754044952, 0.0],\n",
       "  [9.38083151964686,\n",
       "   23.094010767585033,\n",
       "   23.094010767585033,\n",
       "   12.68857754044952],\n",
       "  [11.711817393840576,\n",
       "   28.995976732413524,\n",
       "   28.995976732413524,\n",
       "   23.094010767585033],\n",
       "  [16.447897535348805, 35.4682957019364, 35.4682957019364, 28.995976732413524],\n",
       "  [0.0, 4.47213595499958, 4.47213595499958, 0.0],\n",
       "  [0.0, 6.164414002968976, 6.164414002968976, 0.0],\n",
       "  [4.47213595499958, 8.77496438739212, 8.77496438739212, 6.164414002968976],\n",
       "  [0.0, 8.12403840463596, 8.12403840463596, 0.0],\n",
       "  [0.0, 19.544820285692065, 19.544820285692065, 8.12403840463596],\n",
       "  [8.77496438739212, 24.70106995947457, 24.70106995947457, 19.544820285692065],\n",
       "  [0.0, 5.196152422706632, 5.196152422706632, 0.0],\n",
       "  [0.0, 2.23606797749979, 2.23606797749979, 0.0],\n",
       "  [0.0, 3.696845502136472, 3.696845502136472, 2.23606797749979],\n",
       "  [0.0, 5.477225575051661, 5.477225575051661, 0.0],\n",
       "  [3.696845502136472,\n",
       "   10.960535266734619,\n",
       "   10.960535266734619,\n",
       "   5.477225575051661],\n",
       "  [0.0, 14.658330964563008, 14.658330964563008, 10.960535266734619],\n",
       "  [5.196152422706632,\n",
       "   19.12677007059303,\n",
       "   19.12677007059303,\n",
       "   14.658330964563008],\n",
       "  [0.0, 3.4641016151377544, 3.4641016151377544, 0.0],\n",
       "  [0.0, 5.773502691896257, 5.773502691896257, 3.4641016151377544],\n",
       "  [0.0, 6.557438524302, 6.557438524302, 0.0],\n",
       "  [5.773502691896257, 15.711991174471384, 15.711991174471384, 6.557438524302],\n",
       "  [0.0, 4.47213595499958, 4.47213595499958, 0.0],\n",
       "  [0.0, 4.242640687119285, 4.242640687119285, 0.0],\n",
       "  [0.0, 7.2571803523590805, 7.2571803523590805, 4.242640687119285],\n",
       "  [4.47213595499958, 9.825137827701623, 9.825137827701623, 7.2571803523590805],\n",
       "  [0.0, 3.1622776601683795, 3.1622776601683795, 0.0],\n",
       "  [0.0, 4.242640687119285, 4.242640687119285, 0.0],\n",
       "  [0.0, 6.48074069840786, 6.48074069840786, 4.242640687119285],\n",
       "  [3.1622776601683795,\n",
       "   11.224972160321824,\n",
       "   11.224972160321824,\n",
       "   6.48074069840786],\n",
       "  [9.825137827701623,\n",
       "   22.441033844277317,\n",
       "   22.441033844277317,\n",
       "   11.224972160321824],\n",
       "  [15.711991174471384,\n",
       "   35.35533905932738,\n",
       "   35.35533905932738,\n",
       "   22.441033844277317],\n",
       "  [19.12677007059303,\n",
       "   51.631006861819166,\n",
       "   51.631006861819166,\n",
       "   35.35533905932738],\n",
       "  [24.70106995947457,\n",
       "   62.77841672601546,\n",
       "   62.77841672601546,\n",
       "   51.631006861819166],\n",
       "  [35.4682957019364, 79.48450582765591, 79.48450582765591, 62.77841672601546],\n",
       "  [0.0, 2.0, 2.0, 0.0],\n",
       "  [0.0, 6.733003292241384, 6.733003292241384, 2.0],\n",
       "  [0.0, 5.830951894845301, 5.830951894845301, 0.0],\n",
       "  [0.0, 8.286535263104037, 8.286535263104037, 5.830951894845301],\n",
       "  [6.733003292241384,\n",
       "   15.695009822658069,\n",
       "   15.695009822658069,\n",
       "   8.286535263104037],\n",
       "  [0.0, 3.872983346207417, 3.872983346207417, 0.0],\n",
       "  [0.0, 11.0, 11.0, 3.872983346207417],\n",
       "  [0.0, 16.401219466856727, 16.401219466856727, 11.0],\n",
       "  [15.695009822658069,\n",
       "   34.60732099811637,\n",
       "   34.60732099811637,\n",
       "   16.401219466856727],\n",
       "  [0.0, 3.605551275463989, 3.605551275463989, 0.0],\n",
       "  [0.0, 6.855654600401044, 6.855654600401044, 3.605551275463989],\n",
       "  [0.0, 9.460443964212251, 9.460443964212251, 6.855654600401044],\n",
       "  [0.0, 5.744562646538029, 5.744562646538029, 0.0],\n",
       "  [0.0, 12.288205727444506, 12.288205727444506, 5.744562646538029],\n",
       "  [9.460443964212251,\n",
       "   30.922714720966624,\n",
       "   30.922714720966624,\n",
       "   12.288205727444506],\n",
       "  [0.0, 2.23606797749979, 2.23606797749979, 0.0],\n",
       "  [0.0, 5.916079783099617, 5.916079783099617, 2.23606797749979],\n",
       "  [0.0, 2.23606797749979, 2.23606797749979, 0.0],\n",
       "  [0.0, 3.8729833462074166, 3.8729833462074166, 2.23606797749979],\n",
       "  [0.0, 5.0, 5.0, 3.8729833462074166],\n",
       "  [0.0, 7.362064927722386, 7.362064927722386, 5.0],\n",
       "  [5.916079783099617,\n",
       "   16.727223320085134,\n",
       "   16.727223320085134,\n",
       "   7.362064927722386],\n",
       "  [0.0, 1.0, 1.0, 0.0],\n",
       "  [0.0, 5.196152422706632, 5.196152422706632, 1.0],\n",
       "  [0.0, 3.7416573867739413, 3.7416573867739413, 0.0],\n",
       "  [0.0, 3.7416573867739413, 3.7416573867739413, 0.0],\n",
       "  [3.7416573867739413,\n",
       "   6.4031242374328485,\n",
       "   6.4031242374328485,\n",
       "   3.7416573867739413],\n",
       "  [0.0, 3.7416573867739413, 3.7416573867739413, 0.0],\n",
       "  [0.0, 5.196152422706632, 5.196152422706632, 0.0],\n",
       "  [3.7416573867739413,\n",
       "   9.137833441248532,\n",
       "   9.137833441248532,\n",
       "   5.196152422706632],\n",
       "  [6.4031242374328485, 16.3783393541592, 16.3783393541592, 9.137833441248532],\n",
       "  [5.196152422706632,\n",
       "   27.503305586453028,\n",
       "   27.503305586453028,\n",
       "   16.3783393541592],\n",
       "  [16.727223320085134,\n",
       "   35.37583583133478,\n",
       "   35.37583583133478,\n",
       "   27.503305586453028],\n",
       "  [30.922714720966624,\n",
       "   60.367148324869596,\n",
       "   60.367148324869596,\n",
       "   35.37583583133478],\n",
       "  [34.60732099811637, 82.4265018372623, 82.4265018372623, 60.367148324869596],\n",
       "  [79.48450582765591,\n",
       "   186.45668948649592,\n",
       "   186.45668948649592,\n",
       "   82.4265018372623],\n",
       "  [82.8117342731894,\n",
       "   241.87799289906698,\n",
       "   241.87799289906698,\n",
       "   186.45668948649592],\n",
       "  [47.414443071333295,\n",
       "   277.4277749081842,\n",
       "   277.4277749081842,\n",
       "   241.87799289906698],\n",
       "  [0.0, 8.426149773176359, 8.426149773176359, 0.0],\n",
       "  [0.0, 18.284784202536635, 18.284784202536635, 8.426149773176359],\n",
       "  [0.0, 1.0, 1.0, 0.0],\n",
       "  [0.0, 2.449489742783178, 2.449489742783178, 0.0],\n",
       "  [0.0, 2.6457513110645907, 2.6457513110645907, 0.0],\n",
       "  [0.0, 4.43471156521669, 4.43471156521669, 2.6457513110645907],\n",
       "  [0.0, 7.438637868140466, 7.438637868140466, 4.43471156521669],\n",
       "  [2.449489742783178, 8.831760866327846, 8.831760866327846, 7.438637868140466],\n",
       "  [1.0, 13.06713434537198, 13.06713434537198, 8.831760866327846],\n",
       "  [0.0, 5.196152422706632, 5.196152422706632, 0.0],\n",
       "  [0.0, 7.3484692283495345, 7.3484692283495345, 0.0],\n",
       "  [5.196152422706632,\n",
       "   13.435028842544401,\n",
       "   13.435028842544401,\n",
       "   7.3484692283495345],\n",
       "  [13.06713434537198,\n",
       "   18.45038391651151,\n",
       "   18.45038391651151,\n",
       "   13.435028842544401],\n",
       "  [0.0, 4.69041575982343, 4.69041575982343, 0.0],\n",
       "  [0.0, 6.164414002968976, 6.164414002968976, 0.0],\n",
       "  [0.0, 11.633285577743433, 11.633285577743433, 6.164414002968976],\n",
       "  [4.69041575982343, 22.80058478782215, 22.80058478782215, 11.633285577743433],\n",
       "  [18.45038391651151, 51.12341852388813, 51.12341852388813, 22.80058478782215],\n",
       "  [0.0, 4.58257569495584, 4.58257569495584, 0.0],\n",
       "  [0.0, 10.908712114635714, 10.908712114635714, 4.58257569495584],\n",
       "  [0.0, 6.48074069840786, 6.48074069840786, 0.0],\n",
       "  [0.0, 5.477225575051661, 5.477225575051661, 0.0],\n",
       "  [0.0, 4.242640687119285, 4.242640687119285, 0.0],\n",
       "  [0.0, 5.8309518948453, 5.8309518948453, 4.242640687119285],\n",
       "  [5.477225575051661, 7.77174369109018, 7.77174369109018, 5.8309518948453],\n",
       "  [6.48074069840786, 10.96227296555913, 10.96227296555913, 7.77174369109018],\n",
       "  [10.908712114635714,\n",
       "   20.214563349935894,\n",
       "   20.214563349935894,\n",
       "   10.96227296555913],\n",
       "  [0.0, 4.47213595499958, 4.47213595499958, 0.0],\n",
       "  [0.0, 8.18535277187245, 8.18535277187245, 0.0],\n",
       "  [4.47213595499958, 10.024968827881711, 10.024968827881711, 8.18535277187245],\n",
       "  [0.0, 3.7416573867739413, 3.7416573867739413, 0.0],\n",
       "  [0.0, 9.273618495495702, 9.273618495495702, 3.7416573867739413],\n",
       "  [0.0, 13.435028842544401, 13.435028842544401, 9.273618495495702],\n",
       "  [0.0, 19.27433526739638, 19.27433526739638, 13.435028842544401],\n",
       "  [10.024968827881711,\n",
       "   28.62885102673719,\n",
       "   28.62885102673719,\n",
       "   19.27433526739638],\n",
       "  [20.214563349935894, 62.8875725690357, 62.8875725690357, 28.62885102673719],\n",
       "  [51.12341852388813, 75.82351119778876, 75.82351119778876, 62.8875725690357],\n",
       "  [18.284784202536635,\n",
       "   105.23277007394557,\n",
       "   105.23277007394557,\n",
       "   75.82351119778876],\n",
       "  [0.0, 13.564659966250536, 13.564659966250536, 0.0],\n",
       "  [0.0, 23.35237318418266, 23.35237318418266, 13.564659966250536],\n",
       "  [0.0, 8.306623862918075, 8.306623862918075, 0.0],\n",
       "  [0.0, 7.416198487095663, 7.416198487095663, 0.0],\n",
       "  [0.0, 13.940349110884322, 13.940349110884322, 7.416198487095663],\n",
       "  [0.0, 18.12916618784953, 18.12916618784953, 13.940349110884322],\n",
       "  [0.0, 25.05194603219478, 25.05194603219478, 18.12916618784953],\n",
       "  [8.306623862918075, 32.33264604080525, 32.33264604080525, 25.05194603219478],\n",
       "  [23.35237318418266, 52.75477861451668, 52.75477861451668, 32.33264604080525],\n",
       "  [0.0, 3.0, 3.0, 0.0],\n",
       "  [0.0, 5.196152422706632, 5.196152422706632, 0.0],\n",
       "  [0.0, 9.146948489341495, 9.146948489341495, 5.196152422706632],\n",
       "  [0.0, 9.60902353693305, 9.60902353693305, 9.146948489341495],\n",
       "  [3.0, 26.814175355583846, 26.814175355583846, 9.60902353693305],\n",
       "  [0.0, 7.874007874011811, 7.874007874011811, 0.0],\n",
       "  [0.0, 12.409673645990857, 12.409673645990857, 0.0],\n",
       "  [7.874007874011811,\n",
       "   17.05872210923198,\n",
       "   17.05872210923198,\n",
       "   12.409673645990857],\n",
       "  [0.0, 5.0, 5.0, 0.0],\n",
       "  [0.0, 9.327379053088816, 9.327379053088816, 0.0],\n",
       "  [0.0, 11.532562594670797, 11.532562594670797, 9.327379053088816],\n",
       "  [5.0, 18.606450494385005, 18.606450494385005, 11.532562594670797],\n",
       "  [0.0, 5.196152422706632, 5.196152422706632, 0.0],\n",
       "  [0.0, 8.306623862918075, 8.306623862918075, 5.196152422706632],\n",
       "  [0.0, 7.54983443527075, 7.54983443527075, 0.0],\n",
       "  [0.0, 4.242640687119285, 4.242640687119285, 0.0],\n",
       "  [0.0, 3.3166247903554, 3.3166247903554, 0.0],\n",
       "  [0.0, 5.0, 5.0, 3.3166247903554],\n",
       "  [4.242640687119285, 17.67484087622856, 17.67484087622856, 5.0],\n",
       "  [7.54983443527075,\n",
       "   24.460463726476767,\n",
       "   24.460463726476767,\n",
       "   17.67484087622856],\n",
       "  [8.306623862918075,\n",
       "   34.34655316455661,\n",
       "   34.34655316455661,\n",
       "   24.460463726476767],\n",
       "  [18.606450494385005, 40.3773864103824, 40.3773864103824, 34.34655316455661],\n",
       "  [17.05872210923198, 47.4326484644372, 47.4326484644372, 40.3773864103824],\n",
       "  [26.814175355583846, 76.24651156817464, 76.24651156817464, 47.4326484644372],\n",
       "  [52.75477861451668, 116.3878736933412, 116.3878736933412, 76.24651156817464],\n",
       "  [105.23277007394557,\n",
       "   398.16513248333627,\n",
       "   398.16513248333627,\n",
       "   116.3878736933412],\n",
       "  [277.4277749081842,\n",
       "   411.92848906970505,\n",
       "   411.92848906970505,\n",
       "   398.16513248333627]],\n",
       " 'ivl': ['7',\n",
       "  '11',\n",
       "  '19',\n",
       "  '1',\n",
       "  '3',\n",
       "  '5',\n",
       "  '13',\n",
       "  '15',\n",
       "  '17',\n",
       "  '9',\n",
       "  '21',\n",
       "  '23',\n",
       "  '37',\n",
       "  '31',\n",
       "  '35',\n",
       "  '39',\n",
       "  '33',\n",
       "  '41',\n",
       "  '25',\n",
       "  '29',\n",
       "  '8',\n",
       "  '10',\n",
       "  '12',\n",
       "  '30',\n",
       "  '32',\n",
       "  '22',\n",
       "  '24',\n",
       "  '34',\n",
       "  '2',\n",
       "  '6',\n",
       "  '14',\n",
       "  '0',\n",
       "  '4',\n",
       "  '16',\n",
       "  '20',\n",
       "  '36',\n",
       "  '38',\n",
       "  '18',\n",
       "  '26',\n",
       "  '28',\n",
       "  '79',\n",
       "  '83',\n",
       "  '85',\n",
       "  '107',\n",
       "  '118',\n",
       "  '98',\n",
       "  '89',\n",
       "  '101',\n",
       "  '92',\n",
       "  '96',\n",
       "  '86',\n",
       "  '104',\n",
       "  '117',\n",
       "  '119',\n",
       "  '66',\n",
       "  '76',\n",
       "  '77',\n",
       "  '81',\n",
       "  '88',\n",
       "  '122',\n",
       "  '54',\n",
       "  '59',\n",
       "  '55',\n",
       "  '71',\n",
       "  '40',\n",
       "  '42',\n",
       "  '44',\n",
       "  '90',\n",
       "  '102',\n",
       "  '82',\n",
       "  '110',\n",
       "  '106',\n",
       "  '109',\n",
       "  '108',\n",
       "  '116',\n",
       "  '46',\n",
       "  '50',\n",
       "  '56',\n",
       "  '53',\n",
       "  '63',\n",
       "  '74',\n",
       "  '80',\n",
       "  '73',\n",
       "  '64',\n",
       "  '72',\n",
       "  '60',\n",
       "  '70',\n",
       "  '57',\n",
       "  '62',\n",
       "  '67',\n",
       "  '47',\n",
       "  '48',\n",
       "  '49',\n",
       "  '69',\n",
       "  '52',\n",
       "  '58',\n",
       "  '27',\n",
       "  '45',\n",
       "  '43',\n",
       "  '51',\n",
       "  '94',\n",
       "  '93',\n",
       "  '112',\n",
       "  '121',\n",
       "  '142',\n",
       "  '124',\n",
       "  '132',\n",
       "  '91',\n",
       "  '100',\n",
       "  '105',\n",
       "  '111',\n",
       "  '99',\n",
       "  '113',\n",
       "  '114',\n",
       "  '115',\n",
       "  '61',\n",
       "  '65',\n",
       "  '68',\n",
       "  '75',\n",
       "  '78',\n",
       "  '84',\n",
       "  '87',\n",
       "  '95',\n",
       "  '97',\n",
       "  '103',\n",
       "  '120',\n",
       "  '199',\n",
       "  '195',\n",
       "  '197',\n",
       "  '129',\n",
       "  '131',\n",
       "  '147',\n",
       "  '159',\n",
       "  '125',\n",
       "  '139',\n",
       "  '133',\n",
       "  '137',\n",
       "  '157',\n",
       "  '161',\n",
       "  '153',\n",
       "  '165',\n",
       "  '187',\n",
       "  '191',\n",
       "  '169',\n",
       "  '171',\n",
       "  '177',\n",
       "  '151',\n",
       "  '123',\n",
       "  '127',\n",
       "  '145',\n",
       "  '163',\n",
       "  '135',\n",
       "  '155',\n",
       "  '141',\n",
       "  '143',\n",
       "  '149',\n",
       "  '167',\n",
       "  '173',\n",
       "  '175',\n",
       "  '179',\n",
       "  '193',\n",
       "  '185',\n",
       "  '189',\n",
       "  '181',\n",
       "  '183',\n",
       "  '198',\n",
       "  '194',\n",
       "  '196',\n",
       "  '180',\n",
       "  '184',\n",
       "  '192',\n",
       "  '186',\n",
       "  '190',\n",
       "  '182',\n",
       "  '188',\n",
       "  '156',\n",
       "  '158',\n",
       "  '162',\n",
       "  '144',\n",
       "  '134',\n",
       "  '138',\n",
       "  '126',\n",
       "  '146',\n",
       "  '160',\n",
       "  '164',\n",
       "  '170',\n",
       "  '172',\n",
       "  '148',\n",
       "  '166',\n",
       "  '168',\n",
       "  '174',\n",
       "  '176',\n",
       "  '178',\n",
       "  '128',\n",
       "  '140',\n",
       "  '130',\n",
       "  '136',\n",
       "  '154',\n",
       "  '150',\n",
       "  '152'],\n",
       " 'leaves': [7,\n",
       "  11,\n",
       "  19,\n",
       "  1,\n",
       "  3,\n",
       "  5,\n",
       "  13,\n",
       "  15,\n",
       "  17,\n",
       "  9,\n",
       "  21,\n",
       "  23,\n",
       "  37,\n",
       "  31,\n",
       "  35,\n",
       "  39,\n",
       "  33,\n",
       "  41,\n",
       "  25,\n",
       "  29,\n",
       "  8,\n",
       "  10,\n",
       "  12,\n",
       "  30,\n",
       "  32,\n",
       "  22,\n",
       "  24,\n",
       "  34,\n",
       "  2,\n",
       "  6,\n",
       "  14,\n",
       "  0,\n",
       "  4,\n",
       "  16,\n",
       "  20,\n",
       "  36,\n",
       "  38,\n",
       "  18,\n",
       "  26,\n",
       "  28,\n",
       "  79,\n",
       "  83,\n",
       "  85,\n",
       "  107,\n",
       "  118,\n",
       "  98,\n",
       "  89,\n",
       "  101,\n",
       "  92,\n",
       "  96,\n",
       "  86,\n",
       "  104,\n",
       "  117,\n",
       "  119,\n",
       "  66,\n",
       "  76,\n",
       "  77,\n",
       "  81,\n",
       "  88,\n",
       "  122,\n",
       "  54,\n",
       "  59,\n",
       "  55,\n",
       "  71,\n",
       "  40,\n",
       "  42,\n",
       "  44,\n",
       "  90,\n",
       "  102,\n",
       "  82,\n",
       "  110,\n",
       "  106,\n",
       "  109,\n",
       "  108,\n",
       "  116,\n",
       "  46,\n",
       "  50,\n",
       "  56,\n",
       "  53,\n",
       "  63,\n",
       "  74,\n",
       "  80,\n",
       "  73,\n",
       "  64,\n",
       "  72,\n",
       "  60,\n",
       "  70,\n",
       "  57,\n",
       "  62,\n",
       "  67,\n",
       "  47,\n",
       "  48,\n",
       "  49,\n",
       "  69,\n",
       "  52,\n",
       "  58,\n",
       "  27,\n",
       "  45,\n",
       "  43,\n",
       "  51,\n",
       "  94,\n",
       "  93,\n",
       "  112,\n",
       "  121,\n",
       "  142,\n",
       "  124,\n",
       "  132,\n",
       "  91,\n",
       "  100,\n",
       "  105,\n",
       "  111,\n",
       "  99,\n",
       "  113,\n",
       "  114,\n",
       "  115,\n",
       "  61,\n",
       "  65,\n",
       "  68,\n",
       "  75,\n",
       "  78,\n",
       "  84,\n",
       "  87,\n",
       "  95,\n",
       "  97,\n",
       "  103,\n",
       "  120,\n",
       "  199,\n",
       "  195,\n",
       "  197,\n",
       "  129,\n",
       "  131,\n",
       "  147,\n",
       "  159,\n",
       "  125,\n",
       "  139,\n",
       "  133,\n",
       "  137,\n",
       "  157,\n",
       "  161,\n",
       "  153,\n",
       "  165,\n",
       "  187,\n",
       "  191,\n",
       "  169,\n",
       "  171,\n",
       "  177,\n",
       "  151,\n",
       "  123,\n",
       "  127,\n",
       "  145,\n",
       "  163,\n",
       "  135,\n",
       "  155,\n",
       "  141,\n",
       "  143,\n",
       "  149,\n",
       "  167,\n",
       "  173,\n",
       "  175,\n",
       "  179,\n",
       "  193,\n",
       "  185,\n",
       "  189,\n",
       "  181,\n",
       "  183,\n",
       "  198,\n",
       "  194,\n",
       "  196,\n",
       "  180,\n",
       "  184,\n",
       "  192,\n",
       "  186,\n",
       "  190,\n",
       "  182,\n",
       "  188,\n",
       "  156,\n",
       "  158,\n",
       "  162,\n",
       "  144,\n",
       "  134,\n",
       "  138,\n",
       "  126,\n",
       "  146,\n",
       "  160,\n",
       "  164,\n",
       "  170,\n",
       "  172,\n",
       "  148,\n",
       "  166,\n",
       "  168,\n",
       "  174,\n",
       "  176,\n",
       "  178,\n",
       "  128,\n",
       "  140,\n",
       "  130,\n",
       "  136,\n",
       "  154,\n",
       "  150,\n",
       "  152],\n",
       " 'color_list': ['C1',\n",
       "  'C1',\n",
       "  'C1',\n",
       "  'C1',\n",
       "  'C1',\n",
       "  'C1',\n",
       "  'C1',\n",
       "  'C1',\n",
       "  'C1',\n",
       "  'C1',\n",
       "  'C1',\n",
       "  'C1',\n",
       "  'C1',\n",
       "  'C1',\n",
       "  'C1',\n",
       "  'C1',\n",
       "  'C1',\n",
       "  'C1',\n",
       "  'C1',\n",
       "  'C1',\n",
       "  'C1',\n",
       "  'C1',\n",
       "  'C1',\n",
       "  'C1',\n",
       "  'C1',\n",
       "  'C1',\n",
       "  'C1',\n",
       "  'C1',\n",
       "  'C1',\n",
       "  'C1',\n",
       "  'C1',\n",
       "  'C1',\n",
       "  'C1',\n",
       "  'C1',\n",
       "  'C1',\n",
       "  'C1',\n",
       "  'C1',\n",
       "  'C1',\n",
       "  'C1',\n",
       "  'C1',\n",
       "  'C1',\n",
       "  'C1',\n",
       "  'C1',\n",
       "  'C1',\n",
       "  'C1',\n",
       "  'C1',\n",
       "  'C1',\n",
       "  'C1',\n",
       "  'C1',\n",
       "  'C1',\n",
       "  'C1',\n",
       "  'C1',\n",
       "  'C1',\n",
       "  'C1',\n",
       "  'C1',\n",
       "  'C1',\n",
       "  'C1',\n",
       "  'C1',\n",
       "  'C1',\n",
       "  'C1',\n",
       "  'C1',\n",
       "  'C1',\n",
       "  'C1',\n",
       "  'C1',\n",
       "  'C1',\n",
       "  'C1',\n",
       "  'C1',\n",
       "  'C1',\n",
       "  'C1',\n",
       "  'C1',\n",
       "  'C1',\n",
       "  'C1',\n",
       "  'C1',\n",
       "  'C1',\n",
       "  'C1',\n",
       "  'C1',\n",
       "  'C1',\n",
       "  'C1',\n",
       "  'C1',\n",
       "  'C1',\n",
       "  'C1',\n",
       "  'C1',\n",
       "  'C1',\n",
       "  'C1',\n",
       "  'C1',\n",
       "  'C1',\n",
       "  'C1',\n",
       "  'C1',\n",
       "  'C1',\n",
       "  'C1',\n",
       "  'C1',\n",
       "  'C1',\n",
       "  'C1',\n",
       "  'C1',\n",
       "  'C1',\n",
       "  'C1',\n",
       "  'C1',\n",
       "  'C1',\n",
       "  'C1',\n",
       "  'C1',\n",
       "  'C1',\n",
       "  'C1',\n",
       "  'C1',\n",
       "  'C1',\n",
       "  'C1',\n",
       "  'C1',\n",
       "  'C1',\n",
       "  'C1',\n",
       "  'C1',\n",
       "  'C1',\n",
       "  'C1',\n",
       "  'C1',\n",
       "  'C1',\n",
       "  'C1',\n",
       "  'C1',\n",
       "  'C1',\n",
       "  'C1',\n",
       "  'C1',\n",
       "  'C1',\n",
       "  'C1',\n",
       "  'C1',\n",
       "  'C1',\n",
       "  'C1',\n",
       "  'C1',\n",
       "  'C1',\n",
       "  'C2',\n",
       "  'C2',\n",
       "  'C2',\n",
       "  'C2',\n",
       "  'C2',\n",
       "  'C2',\n",
       "  'C2',\n",
       "  'C2',\n",
       "  'C2',\n",
       "  'C2',\n",
       "  'C2',\n",
       "  'C2',\n",
       "  'C2',\n",
       "  'C2',\n",
       "  'C2',\n",
       "  'C2',\n",
       "  'C2',\n",
       "  'C2',\n",
       "  'C2',\n",
       "  'C2',\n",
       "  'C2',\n",
       "  'C2',\n",
       "  'C2',\n",
       "  'C2',\n",
       "  'C2',\n",
       "  'C2',\n",
       "  'C2',\n",
       "  'C2',\n",
       "  'C2',\n",
       "  'C2',\n",
       "  'C2',\n",
       "  'C2',\n",
       "  'C2',\n",
       "  'C2',\n",
       "  'C2',\n",
       "  'C2',\n",
       "  'C2',\n",
       "  'C2',\n",
       "  'C3',\n",
       "  'C3',\n",
       "  'C3',\n",
       "  'C3',\n",
       "  'C3',\n",
       "  'C3',\n",
       "  'C3',\n",
       "  'C3',\n",
       "  'C3',\n",
       "  'C3',\n",
       "  'C3',\n",
       "  'C3',\n",
       "  'C3',\n",
       "  'C3',\n",
       "  'C3',\n",
       "  'C3',\n",
       "  'C3',\n",
       "  'C3',\n",
       "  'C3',\n",
       "  'C3',\n",
       "  'C3',\n",
       "  'C3',\n",
       "  'C3',\n",
       "  'C3',\n",
       "  'C3',\n",
       "  'C3',\n",
       "  'C3',\n",
       "  'C3',\n",
       "  'C3',\n",
       "  'C3',\n",
       "  'C3',\n",
       "  'C3',\n",
       "  'C3',\n",
       "  'C3',\n",
       "  'C0',\n",
       "  'C0'],\n",
       " 'leaves_color_list': ['C1',\n",
       "  'C1',\n",
       "  'C1',\n",
       "  'C1',\n",
       "  'C1',\n",
       "  'C1',\n",
       "  'C1',\n",
       "  'C1',\n",
       "  'C1',\n",
       "  'C1',\n",
       "  'C1',\n",
       "  'C1',\n",
       "  'C1',\n",
       "  'C1',\n",
       "  'C1',\n",
       "  'C1',\n",
       "  'C1',\n",
       "  'C1',\n",
       "  'C1',\n",
       "  'C1',\n",
       "  'C1',\n",
       "  'C1',\n",
       "  'C1',\n",
       "  'C1',\n",
       "  'C1',\n",
       "  'C1',\n",
       "  'C1',\n",
       "  'C1',\n",
       "  'C1',\n",
       "  'C1',\n",
       "  'C1',\n",
       "  'C1',\n",
       "  'C1',\n",
       "  'C1',\n",
       "  'C1',\n",
       "  'C1',\n",
       "  'C1',\n",
       "  'C1',\n",
       "  'C1',\n",
       "  'C1',\n",
       "  'C1',\n",
       "  'C1',\n",
       "  'C1',\n",
       "  'C1',\n",
       "  'C1',\n",
       "  'C1',\n",
       "  'C1',\n",
       "  'C1',\n",
       "  'C1',\n",
       "  'C1',\n",
       "  'C1',\n",
       "  'C1',\n",
       "  'C1',\n",
       "  'C1',\n",
       "  'C1',\n",
       "  'C1',\n",
       "  'C1',\n",
       "  'C1',\n",
       "  'C1',\n",
       "  'C1',\n",
       "  'C1',\n",
       "  'C1',\n",
       "  'C1',\n",
       "  'C1',\n",
       "  'C1',\n",
       "  'C1',\n",
       "  'C1',\n",
       "  'C1',\n",
       "  'C1',\n",
       "  'C1',\n",
       "  'C1',\n",
       "  'C1',\n",
       "  'C1',\n",
       "  'C1',\n",
       "  'C1',\n",
       "  'C1',\n",
       "  'C1',\n",
       "  'C1',\n",
       "  'C1',\n",
       "  'C1',\n",
       "  'C1',\n",
       "  'C1',\n",
       "  'C1',\n",
       "  'C1',\n",
       "  'C1',\n",
       "  'C1',\n",
       "  'C1',\n",
       "  'C1',\n",
       "  'C1',\n",
       "  'C1',\n",
       "  'C1',\n",
       "  'C1',\n",
       "  'C1',\n",
       "  'C1',\n",
       "  'C1',\n",
       "  'C1',\n",
       "  'C1',\n",
       "  'C1',\n",
       "  'C1',\n",
       "  'C1',\n",
       "  'C1',\n",
       "  'C1',\n",
       "  'C1',\n",
       "  'C1',\n",
       "  'C1',\n",
       "  'C1',\n",
       "  'C1',\n",
       "  'C1',\n",
       "  'C1',\n",
       "  'C1',\n",
       "  'C1',\n",
       "  'C1',\n",
       "  'C1',\n",
       "  'C1',\n",
       "  'C1',\n",
       "  'C1',\n",
       "  'C1',\n",
       "  'C1',\n",
       "  'C1',\n",
       "  'C1',\n",
       "  'C1',\n",
       "  'C1',\n",
       "  'C1',\n",
       "  'C1',\n",
       "  'C1',\n",
       "  'C1',\n",
       "  'C2',\n",
       "  'C2',\n",
       "  'C2',\n",
       "  'C2',\n",
       "  'C2',\n",
       "  'C2',\n",
       "  'C2',\n",
       "  'C2',\n",
       "  'C2',\n",
       "  'C2',\n",
       "  'C2',\n",
       "  'C2',\n",
       "  'C2',\n",
       "  'C2',\n",
       "  'C2',\n",
       "  'C2',\n",
       "  'C2',\n",
       "  'C2',\n",
       "  'C2',\n",
       "  'C2',\n",
       "  'C2',\n",
       "  'C2',\n",
       "  'C2',\n",
       "  'C2',\n",
       "  'C2',\n",
       "  'C2',\n",
       "  'C2',\n",
       "  'C2',\n",
       "  'C2',\n",
       "  'C2',\n",
       "  'C2',\n",
       "  'C2',\n",
       "  'C2',\n",
       "  'C2',\n",
       "  'C2',\n",
       "  'C2',\n",
       "  'C2',\n",
       "  'C2',\n",
       "  'C2',\n",
       "  'C3',\n",
       "  'C3',\n",
       "  'C3',\n",
       "  'C3',\n",
       "  'C3',\n",
       "  'C3',\n",
       "  'C3',\n",
       "  'C3',\n",
       "  'C3',\n",
       "  'C3',\n",
       "  'C3',\n",
       "  'C3',\n",
       "  'C3',\n",
       "  'C3',\n",
       "  'C3',\n",
       "  'C3',\n",
       "  'C3',\n",
       "  'C3',\n",
       "  'C3',\n",
       "  'C3',\n",
       "  'C3',\n",
       "  'C3',\n",
       "  'C3',\n",
       "  'C3',\n",
       "  'C3',\n",
       "  'C3',\n",
       "  'C3',\n",
       "  'C3',\n",
       "  'C3',\n",
       "  'C3',\n",
       "  'C3',\n",
       "  'C3',\n",
       "  'C3',\n",
       "  'C3',\n",
       "  'C3']}"
      ]
     },
     "execution_count": 78,
     "metadata": {},
     "output_type": "execute_result"
    },
    {
     "data": {
      "image/png": "[encoded data removed]",
      "text/plain": [
       "<Figure size 1440x1080 with 1 Axes>"
      ]
     },
     "metadata": {
      "needs_background": "light"
     },
     "output_type": "display_data"
    }
   ],
   "source": [
    "plt.figure(figsize=(20,15))\n",
    "dendrogram(var,leaf_rotation=90)"
   ]
  }
 ],
 "metadata": {
  "kernelspec": {
   "display_name": "Python 3.10.6 64-bit (windows store)",
   "language": "python",
   "name": "python3"
  },
  "language_info": {
   "codemirror_mode": {
    "name": "ipython",
    "version": 3
   },
   "file_extension": ".py",
   "mimetype": "text/x-python",
   "name": "python",
   "nbconvert_exporter": "python",
   "pygments_lexer": "ipython3",
   "version": "3.10.6"
  },
  "orig_nbformat": 4,
  "vscode": {
   "interpreter": {
    "hash": "a08f583acb35847448b52a9eb69292a61cb88f49696fc3f852078c09d98ba127"
   }
  }
 },
 "nbformat": 4,
 "nbformat_minor": 2
}
